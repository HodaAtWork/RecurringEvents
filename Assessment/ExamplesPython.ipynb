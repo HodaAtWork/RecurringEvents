{
 "cells": [
  {
   "cell_type": "markdown",
   "metadata": {},
   "source": [
    "# Programming assessment\n",
    "Three programming skill test examples. Originally written in Eclipse/PyDev."
   ]
  },
  {
   "cell_type": "code",
   "execution_count": 1,
   "metadata": {},
   "outputs": [],
   "source": [
    "# input function in all examples\n",
    "def inputInteger(questionString):\n",
    "    while True:\n",
    "        try:\n",
    "            enteredValue = int(input(questionString))\n",
    "        except:\n",
    "            print('Please enter an integer value.')\n",
    "            continue\n",
    "        else:\n",
    "            return enteredValue\n",
    "            break"
   ]
  },
  {
   "cell_type": "markdown",
   "metadata": {},
   "source": [
    "## 1 Largest permutation\n",
    "Given a number, return the largest permutation of that number."
   ]
  },
  {
   "cell_type": "code",
   "execution_count": 2,
   "metadata": {},
   "outputs": [],
   "source": [
    "def largestPermutation(number):\n",
    "    myList = list(str(number))\n",
    "    myList.sort(reverse = True)\n",
    "    result = ''\n",
    "    for elm in myList:\n",
    "        result += elm\n",
    "    print('largest value: ', int(result))"
   ]
  },
  {
   "cell_type": "code",
   "execution_count": 3,
   "metadata": {},
   "outputs": [
    {
     "name": "stdout",
     "output_type": "stream",
     "text": [
      "Enter a number: 25097537\n",
      "largest value:  97755320\n"
     ]
    }
   ],
   "source": [
    "nr = inputInteger(\"Enter a number: \")\n",
    "largestPermutation(nr)"
   ]
  },
  {
   "cell_type": "markdown",
   "metadata": {},
   "source": [
    "## 2 Linked list \n",
    "Given a linked list that ends with -1. Return the number of steps until end of linked list (-1). Example input: `[2, 5, 4, 6, 1, -1]`.\n",
    "\n",
    "| from_index | to_index | value at to_index |\n",
    "| --- | --- | --- |\n",
    "| 0 | 2 | 4 |\n",
    "| 2 | 4 | 1 |\n",
    "| 4 | 1 | 5 |\n",
    "| 1 | 5 | -1 |\n",
    "\n",
    "So 4 steps to reach end of linked list."
   ]
  },
  {
   "cell_type": "code",
   "execution_count": 4,
   "metadata": {},
   "outputs": [],
   "source": [
    "def stepsToEndLinkedList(aList):\n",
    "    nrSteps = 0\n",
    "    myValue = aList[0]\n",
    "    while myValue != -1:\n",
    "        nrSteps += 1\n",
    "        myValue = aList[myValue]\n",
    "    print('Number of steps until -1 in linked list: ', nrSteps)\n"
   ]
  },
  {
   "cell_type": "code",
   "execution_count": 5,
   "metadata": {},
   "outputs": [
    {
     "name": "stdout",
     "output_type": "stream",
     "text": [
      "Give number of elements in linkedlist: 10\n",
      "Enter linkedlist value: 4\n",
      "List so far:  [4]\n",
      "Enter linkedlist value: 9\n",
      "List so far:  [4, 9]\n",
      "Enter linkedlist value: 7\n",
      "List so far:  [4, 9, 7]\n",
      "Enter linkedlist value: 6\n",
      "List so far:  [4, 9, 7, 6]\n",
      "Enter linkedlist value: 1\n",
      "List so far:  [4, 9, 7, 6, 1]\n",
      "Enter linkedlist value: 8\n",
      "List so far:  [4, 9, 7, 6, 1, 8]\n",
      "Enter linkedlist value: 3\n",
      "List so far:  [4, 9, 7, 6, 1, 8, 3]\n",
      "Enter linkedlist value: 5\n",
      "List so far:  [4, 9, 7, 6, 1, 8, 3, 5]\n",
      "Enter linkedlist value: -1\n",
      "List so far:  [4, 9, 7, 6, 1, 8, 3, 5, -1]\n",
      "Enter linkedlist value: 2\n",
      "List so far:  [4, 9, 7, 6, 1, 8, 3, 5, -1, 2]\n",
      "Linked list made\n"
     ]
    }
   ],
   "source": [
    "myLinkedList = []\n",
    "sizeLinkedList = inputInteger(\"Give number of elements in linkedlist: \")\n",
    "for i in range(0, sizeLinkedList):\n",
    "    # value should be in range and not be used before\n",
    "    listValue = inputInteger(\"Enter linkedlist value: \")\n",
    "    if (listValue in range(-1, sizeLinkedList + 1)) and (listValue not in myLinkedList):\n",
    "        myLinkedList.append(listValue)\n",
    "        print(\"List so far: \", myLinkedList) # just to see linkedlist\n",
    "print('Linked list made')"
   ]
  },
  {
   "cell_type": "code",
   "execution_count": 6,
   "metadata": {},
   "outputs": [
    {
     "name": "stdout",
     "output_type": "stream",
     "text": [
      "Number of steps until -1 in linked list:  7\n"
     ]
    }
   ],
   "source": [
    "stepsToEndLinkedList(myLinkedList) "
   ]
  },
  {
   "cell_type": "markdown",
   "metadata": {},
   "source": [
    "## 3 Rank reporting\n",
    "Collect ranks reporting to a superior exactly 1 higher in hierarchy. Return total number of reporting ranks. Example input: `[2, 2, 4, 6, 3, 4, 4, 5]`.\n",
    "\n",
    "|rank|reportingTo|#|\n",
    "| --- | --- | --- |\n",
    "|2|3|2|\n",
    "|3|4|1|\n",
    "|4|5|3|\n",
    "|5|6|1|\n",
    "\n",
    "Seven ranks are reporting to their immediate superior"
   ]
  },
  {
   "cell_type": "code",
   "execution_count": 7,
   "metadata": {},
   "outputs": [],
   "source": [
    "def ranksReporting(ranks):\n",
    "    ranks.sort()\n",
    "    uniqueRanks = set(ranks)\n",
    "    ranksDict = {}\n",
    "    for r in uniqueRanks:\n",
    "        ranksDict[r] = ranks.count(r)\n",
    "    reportingRanks = 0\n",
    "    for ur in uniqueRanks:\n",
    "        ranks = ranksDict[ur]\n",
    "        if ur + 1 in ranksDict:\n",
    "            reportingRanks += ranks\n",
    "    print('Total number of reporters: ', reportingRanks)"
   ]
  },
  {
   "cell_type": "code",
   "execution_count": 8,
   "metadata": {},
   "outputs": [
    {
     "name": "stdout",
     "output_type": "stream",
     "text": [
      "Give number of elements in list: 9\n",
      "Enter list value: 3\n",
      "List so far:  [3]\n",
      "Enter list value: 4\n",
      "List so far:  [3, 4]\n",
      "Enter list value: 3\n",
      "List so far:  [3, 4, 3]\n",
      "Enter list value: 0\n",
      "List so far:  [3, 4, 3, 0]\n",
      "Enter list value: 2\n",
      "List so far:  [3, 4, 3, 0, 2]\n",
      "Enter list value: 2\n",
      "List so far:  [3, 4, 3, 0, 2, 2]\n",
      "Enter list value: 3\n",
      "List so far:  [3, 4, 3, 0, 2, 2, 3]\n",
      "Enter list value: 0\n",
      "List so far:  [3, 4, 3, 0, 2, 2, 3, 0]\n",
      "Enter list value: 0\n",
      "List so far:  [3, 4, 3, 0, 2, 2, 3, 0, 0]\n",
      "List made\n"
     ]
    }
   ],
   "source": [
    "myList = []\n",
    "sizeList = inputInteger(\"Give number of elements in list: \")\n",
    "for i in range(0, sizeList):\n",
    "    listValue = inputInteger(\"Enter list value: \")\n",
    "    myList.append(listValue)\n",
    "    print(\"List so far: \", myList) # to see the list\n",
    "print('List made')"
   ]
  },
  {
   "cell_type": "code",
   "execution_count": 9,
   "metadata": {},
   "outputs": [
    {
     "name": "stdout",
     "output_type": "stream",
     "text": [
      "Total number of reporters:  5\n"
     ]
    }
   ],
   "source": [
    "ranksReporting(myList)"
   ]
  }
 ],
 "metadata": {
  "kernelspec": {
   "display_name": "Python 3",
   "language": "python",
   "name": "python3"
  },
  "language_info": {
   "codemirror_mode": {
    "name": "ipython",
    "version": 3
   },
   "file_extension": ".py",
   "mimetype": "text/x-python",
   "name": "python",
   "nbconvert_exporter": "python",
   "pygments_lexer": "ipython3",
   "version": "3.8.3"
  }
 },
 "nbformat": 4,
 "nbformat_minor": 4
}
